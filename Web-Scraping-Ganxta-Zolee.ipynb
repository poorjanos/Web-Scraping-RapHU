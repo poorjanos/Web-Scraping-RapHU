{
 "cells": [
  {
   "cell_type": "markdown",
   "metadata": {},
   "source": [
    "# Web Scraping Pipeline for Ganxta Zolee és a Kartell Lyrics"
   ]
  },
  {
   "cell_type": "code",
   "execution_count": 2,
   "metadata": {},
   "outputs": [],
   "source": [
    "import requests\n",
    "from bs4 import BeautifulSoup as bs\n",
    "import time\n",
    "\n",
    "def parse_url(url):\n",
    "  page = requests.get(url).text\n",
    "  return bs(page)\n",
    "\n",
    "\n",
    "def get_album_urls(band_url):\n",
    "  '''\n",
    "  Returns urls of band's albums\n",
    "  '''\n",
    "  album_urls = []\n",
    "  \n",
    "  try:\n",
    "    band_soup = parse_url(band_url)\n",
    "    albums = band_soup.find_all(class_ = 'thumbnail-large-text')\n",
    "  except:\n",
    "    print(f'Cannot parse: {band_url}')\n",
    "    return None\n",
    "  \n",
    "  album_urls = ['http://www.zeneszoveg.hu/' + album.find('p').find('a')['href'] for album in albums]\n",
    "  return album_urls\n",
    "\n",
    "\n",
    "def get_track_urls(album_urls):\n",
    "  '''\n",
    "  Returns dict of band albums as keys and urls of tracks as values\n",
    "  '''\n",
    "  track_urls = {}\n",
    "  \n",
    "  for album_url in album_urls:\n",
    "    \n",
    "    try:\n",
    "      album_soup = parse_url(album_url)\n",
    "      tracks = album_soup.find_all('table')[2].find_all(class_ = 'track-name')\n",
    "    except:\n",
    "      print(f\"Cannot parse album: {album_url}\")\n",
    "      return None\n",
    "    \n",
    "    track_urls[album_url]= ['http://www.zeneszoveg.hu/' + track.find('a')['href'] for track in tracks]\n",
    "    time.sleep(2)\n",
    "\n",
    "  return track_urls\n",
    "\n",
    "\n",
    "def get_lyrics(track_url):\n",
    "  '''\n",
    "  Returns lyrics str from track url\n",
    "  '''\n",
    "  try:\n",
    "    track_soup = parse_url(track_url)\n",
    "    lyrics = track_soup.find(class_ = 'lyrics-plain-text').text\n",
    "  except:\n",
    "    print(f'\"Cannot parse track: {track_url}')\n",
    "    return None\n",
    "  \n",
    "  time.sleep(2)\n",
    "  return lyrics\n",
    "\n",
    "\n",
    "def collect_lyrics(track_urls_dict):\n",
    "  '''\n",
    "  Pipeline to collect lyrics by album-tracks dict\n",
    "  Returns nested dict\n",
    "  '''\n",
    "  corpus = {}\n",
    "  lyrics_dict = {}\n",
    "  \n",
    "  for album_url, track_urls in track_urls_dict.items():\n",
    "    if len(track_urls) > 0:\n",
    "      for track_url in track_urls:\n",
    "        lyrics = get_lyrics(track_url)\n",
    "        lyrics_dict[track_url] = lyrics\n",
    "    corpus[album_url] = lyrics_dict\n",
    "  \n",
    "  return corpus"
   ]
  },
  {
   "cell_type": "code",
   "execution_count": 3,
   "metadata": {},
   "outputs": [],
   "source": [
    "album_urls = get_album_urls('http://www.zeneszoveg.hu/egyuttes/4/ganxsta-zolee-es-a-kartel-dalszovegei.html')\n",
    "track_urls = get_track_urls(album_urls)"
   ]
  },
  {
   "cell_type": "code",
   "execution_count": null,
   "metadata": {},
   "outputs": [],
   "source": [
    "c = collect_lyrics(track_urls)"
   ]
  },
  {
   "cell_type": "code",
   "execution_count": null,
   "metadata": {},
   "outputs": [],
   "source": [
    "import pandas as pd\n",
    "\n",
    "album_titles = []\n",
    "helper = []\n",
    "\n",
    "for album_title, tracks in c.items():\n",
    "    album_titles.append(album_titles)\n",
    "    helper.append(pd.DataFrame.from_dict(tracks, orient='index'))\n",
    "\n",
    "res = pd.concat(helper, keys=album_titles)"
   ]
  }
 ],
 "metadata": {
  "kernelspec": {
   "display_name": "Python 3",
   "language": "python",
   "name": "python3"
  },
  "language_info": {
   "codemirror_mode": {
    "name": "ipython",
    "version": 3
   },
   "file_extension": ".py",
   "mimetype": "text/x-python",
   "name": "python",
   "nbconvert_exporter": "python",
   "pygments_lexer": "ipython3",
   "version": "3.8.2"
  }
 },
 "nbformat": 4,
 "nbformat_minor": 4
}
